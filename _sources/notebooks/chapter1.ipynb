{
 "cells": [
  {
   "cell_type": "markdown",
   "id": "30a00d7f-e873-4f40-be80-0aee13877d0a",
   "metadata": {},
   "source": [
    "# A Voyage of Discovery"
   ]
  },
  {
   "cell_type": "markdown",
   "id": "4d100b49-9003-4226-a95c-6f7c1f5f987c",
   "metadata": {},
   "source": [
    "The role of the ocean on weather and climate is often\n",
    "discussed in the news. Who has not heard of  El Niño and changing\n",
    "weather patterns, the Atlantic hurricane season and storm surges? Yet,\n",
    "what exactly is the role of the ocean? And, why do we care?\n"
   ]
  },
  {
   "cell_type": "markdown",
   "id": "a361f57e-a11d-40fa-b802-418f59c805a7",
   "metadata": {},
   "source": [
    "## Why study the Physics of the ocean?"
   ]
  },
  {
   "cell_type": "markdown",
   "id": "732ec94d-5d28-4f23-b7c5-14f8f7958b46",
   "metadata": {},
   "source": [
    "The answer depends on our interests, which devolve from our use of the\n",
    "ocean. Three broad themes are important:"
   ]
  },
  {
   "cell_type": "markdown",
   "id": "901ddede-37e8-4ce2-8079-fb4b2374b86a",
   "metadata": {},
   "source": [
    "1. We get food from the ocean. Hence we may be interested in\n",
    "processes which influence the sea just as farmers are interested in\n",
    "the weather and climate. The ocean not only has weather such as\n",
    "temperature changes and currents, but the oceanic weather fertilizes\n",
    "the sea. The atmospheric weather seldom fertilizes fields except for\n",
    "the small amount of nitrogen fixed by lightning.\n",
    "2. We use the ocean. We build structures on the shore or just\n",
    "offshore. We use the ocean for transport. We obtain oil and gas below\n",
    "the ocean. And, we use the ocean for recreation, swimming, boating,\n",
    "fishing, surfing, and diving. Hence we are interested in processes\n",
    "that influence these activities, especially waves, winds, currents,\n",
    "and temperature.\n",
    "3. The ocean influence the atmospheric weather and climate. The\n",
    "ocean influence the distribution of rainfall, droughts, floods,\n",
    "regional climate, and the development of storms, hurricanes, and\n",
    "typhoons. Hence we are interested in air-sea interactions, especially\n",
    "the fluxes of heat and water across the sea surface, the transport of\n",
    "heat by the ocean, and the influence of the ocean on climate and\n",
    "weather patterns."
   ]
  },
  {
   "cell_type": "markdown",
   "id": "bbc793d5-252d-4f65-ab52-c79082000203",
   "metadata": {},
   "source": [
    "These themes influence our selection of topics to study. The topics\n",
    "then determine what we measure, how the measurements are made, and the\n",
    "geographic areas of interest. Some processes are local, such as the\n",
    "breaking of waves on a beach, some are regional, such as the influence\n",
    "of the North Pacific on Alaskan weather, and some are global, such as\n",
    "the influence of the ocean on changing climate and global warming.\n",
    "\n",
    "If indeed, these reasons for the study of the ocean are important,\n",
    "lets begin a voyage of discovery. Any voyage needs a destination. What\n",
    "is ours?"
   ]
  },
  {
   "cell_type": "markdown",
   "id": "e80fee03-dfc2-4f5d-9166-13fd279b7f3b",
   "metadata": {},
   "source": [
    "## Goals"
   ]
  },
  {
   "cell_type": "markdown",
   "id": "0dca659f-6127-43b1-8a78-20f3b4357b41",
   "metadata": {},
   "source": [
    "At the most basic level, I hope you, the students who are reading this text,\n",
    "will become aware of some of the major conceptual schemes (or theories) that\n",
    "form the foundation of physical oceanography, how they were arrived at, and\n",
    "why they are widely accepted, how oceanographers achieve order out of a random ocean \n",
    "and the role of experiment in oceanography (to paraphrase Shamos, 1995: p.89 {cite:labelpar}`shamos1995great`).\n",
    "\n",
    "\n",
    "More particularly, I expect you will be able to describe physical processes\n",
    "influencing the ocean and coastal regions: the interaction of the ocean with the\n",
    "atmosphere, and the distribution of oceanic winds, currents, heat fluxes, and\n",
    "water masses. The text emphasizes ideas rather than mathematical techniques.\n",
    "I will try to answer such questions as:"
   ]
  },
  {
   "cell_type": "markdown",
   "id": "297896aa-37b8-45df-b315-080c32dfb9f2",
   "metadata": {},
   "source": [
    "1. What is the basis of our understanding of physics of the ocean?\n",
    "   \n",
    "*   (a) What are the physical properties of sea water?\n",
    "*   (b) What are the important thermodynamic and dynamic processes\n",
    "  influencing the ocean?\n",
    "*   (c) What equations describe the processes and how were they derived?\n",
    "*   (d) What approximations were used in the derivation?\n",
    "*   (e) Do the equations have useful solutions?\n",
    "*   (f) How well do the solutions describe the process? That is, what is\n",
    "  the experimental basis for the theories?\n",
    "*   (g)Which processes are poorly understood? Which are well\n",
    "  understood?\n",
    "\n",
    "2. What are the sources of information about physical variables?\n",
    "\n",
    "*   (a) What instruments are used for measuring each variable?\n",
    "*   (b) What are their accuracy and limitations?\n",
    "*   (c) What historic data exist?\n",
    "*   (d) What platforms are used? Satellites, ships,\n",
    "  drifters, moorings?\n",
    "\n",
    "3. What processes are important? Some important process we will\n",
    "  study include:\n",
    "\n",
    "*   (a) Heat storage and transport in the ocean.\n",
    "*   (b) The exchange of heat with the atmosphere and the role of the ocean in climate.\n",
    "*   (c) Wind and thermal forcing of the surface mixed.\n",
    "*   (d) The wind-driven circulation including the Ekman circulation,Ekman pumping of the deeper circulation, and upwelling.\n",
    "*   (e) The dynamics of ocean currents, including geostrophic currents and the role of vorticity.\n",
    "*   (f) The formation of water types and masses.\n",
    "*   (g) The deep circulation of the ocean.\n",
    "*   (h) Equatorial dynamics, El Niño, and the role of the ocean in weather.\n",
    "*   (i) Numerical models of the circulation.\n",
    "*   (j) Waves in the ocean including surface waves, inertial oscillations, tides, and tsunamis.\n",
    "*   (k) Waves in shallow water, coastal processes, and tide predictions.\n",
    "\n",
    "4. What are a few of the major currents and water masses in the\n",
    "  ocean, and what governs their distribution?\n"
   ]
  },
  {
   "cell_type": "markdown",
   "id": "bf60a198-69b4-4e39-813e-952157dff9f5",
   "metadata": {},
   "source": [
    "## Organization"
   ]
  },
  {
   "cell_type": "markdown",
   "id": "ce619eb7-9cb8-4fb8-ad28-4cb12064da21",
   "metadata": {},
   "source": [
    "Before beginning a voyage, we usually try to learn about the places we\n",
    "will visit. We look at maps and we consult travel guides. In this\n",
    "book, our guide will be the papers and books published by\n",
    "oceanographers. We begin with a brief overview of what is known about\n",
    "the ocean. We then proceed to a description of the ocean basins, for\n",
    "the shape of the seas influences the physical processes in the\n",
    "water. Next, we study the external forces, wind and heat, acting on\n",
    "the ocean, and the ocean's response. As we proceed, I bring in theory\n",
    "and observations as necessary.\n",
    "\n",
    "By the time we reach {ref}`Chapter 7 <ch7>`, we will need to understand the\n",
    "equations describing dynamic response of the ocean. So we consider the\n",
    "equations of motion, the influence of earth's rotation, and\n",
    "viscosity. This leads to a study of wind-driven ocean currents, the\n",
    "geostrophic approximation, and the\n",
    "usefulness of conservation of vorticity.\n",
    "\n",
    "Toward the end, we consider some particular examples: the deep\n",
    "circulation, the equatorial ocean and El Niño, and the circulation\n",
    "of particular areas of the ocean. Next we look at the role of\n",
    "numerical models in describing the ocean.  At the end, we study\n",
    "coastal processes, waves, tides, wave and tidal forecasting,\n",
    "tsunamis, and storm surges."
   ]
  },
  {
   "cell_type": "markdown",
   "id": "11aca24b-ec4d-44ea-aa91-fb575ff8b589",
   "metadata": {},
   "source": [
    "## The Big Picture"
   ]
  },
  {
   "cell_type": "markdown",
   "id": "afa9305e-f3d6-4ae7-87fd-3af041c7b402",
   "metadata": {},
   "source": [
    "The ocean is one part of the earth system. It mediates processes in\n",
    "the atmosphere by the transfers of mass, momentum, and energy through\n",
    "the sea surface. It receives water and dissolved substances from the\n",
    "land. And, it lays down sediments that eventually become rocks on\n",
    "land. Hence an understanding of the ocean is important for\n",
    "understanding the earth as a system, especially for understanding\n",
    "important problems such as global change or global warming. At a lower\n",
    "level, physical oceanography and meteorology are merging. The ocean\n",
    "provides the feedback leading to slow changes in the atmosphere.\n",
    "\n",
    "As we study the ocean, I hope you will notice that we use theory,\n",
    "observations, and numerical models to describe ocean dynamics. *None is sufficient by itself.*\n",
    "\n",
    "1. Ocean processes are nonlinear and\n",
    "turbulent. Yet we don't really understand the theory of non-linear,\n",
    "turbulent flow in complex basins. Theories used to describe the ocean\n",
    "are much simplified approximations to reality.\n",
    "\n",
    "2. Observations are sparse in time and space.\n",
    "They provide a rough description of the time-averaged flow, but many\n",
    "processes in many regions are poorly observed.\n",
    "\n",
    "3. Numerical models include\n",
    "  much-more-realistic theoretical ideas, they can help interpolate\n",
    "  oceanic observations in time and space, and they are used to\n",
    "  forecast climate change, currents, and waves. Nonetheless, the\n",
    "  numerical equations are approximations to the continuous analytic\n",
    "  equations that describe fluid flow, they contain no information\n",
    "  about flow between grid points, and they cannot yet be used to\n",
    "  describe fully the turbulent flow seen in the ocean.\n",
    "\n",
    "By combining theory and observations in numerical models we avoid some\n",
    "of the difficulties associated with each approach used separately ({numref}`bigpicture`). Continued refinements of the combined approach are\n",
    "leading to ever-more-precise descriptions of the ocean. The ultimate\n",
    "goal is to know the ocean well enough to predict the future changes in\n",
    "the environment, including climate change or the response of fisheries\n",
    "to over fishing.\n",
    "\n"
   ]
  },
  {
   "cell_type": "markdown",
   "id": "b012266d-223f-410a-bb22-3680b571cb3a",
   "metadata": {},
   "source": [
    "```{figure} ../docs/static/images/bigpicture.svg\n",
    "---\n",
    "height: 300px\n",
    "name: bigpicture\n",
    "---\n",
    "Data, numerical models, and theory are\n",
    "all necessary to understand the ocean. Eventually, an\n",
    "understanding of the ocean-atmosphere-land system will lead to\n",
    "predictions of future states of the system.\n",
    "```"
   ]
  },
  {
   "cell_type": "markdown",
   "id": "d3843c53-7eba-4b8a-b906-ff936c6da135",
   "metadata": {},
   "source": [
    "The combination of theory, observations, and computer\n",
    "models is relatively new. Four decades of\n",
    "exponential growth in computing power has made available desktop\n",
    "computers capable of simulating important physical processes and\n",
    "oceanic dynamics. \n",
    "> All of us who are involved in the sciences know that the computer has\n",
    "become an essential tool for research ...scientific computation has\n",
    "reached the point where it is on a par with laboratory experiment and\n",
    "mathematical theory as a tool for research in science and\n",
    "engineering--- Langer, 1999 {cite:labelpar}`langer1999computing`.\n",
    "\n",
    "The combination of theory, observations, and computer models also\n",
    "implies a new way of doing oceanography.\n",
    "In the past, an oceanographer would devise a theory, collect\n",
    "data to test the theory, and publish the results. Now, the tasks have\n",
    "become so specialized that few can do it all. Few excel in theory,\n",
    "collecting data, and numerical simulations. Instead, the work is done\n",
    "more and more by teams of scientists and engineers."
   ]
  },
  {
   "cell_type": "markdown",
   "id": "f256aba5-c027-4d7e-8ac8-5d100133ec38",
   "metadata": {},
   "source": [
    "## Further Reading"
   ]
  },
  {
   "cell_type": "markdown",
   "id": "8766dd7f-957f-4597-b9ca-8a4b21598059",
   "metadata": {},
   "source": [
    "If you know little about the ocean and oceanography, I suggest you\n",
    "begin by reading MacLeish's (1989) book {cite:labelpar}`macleish1989gulf` *The Gulf\n",
    "  Stream: Encounters With the Blue God*, especially\n",
    "his Chapter 4 on *Reading the ocean*. In my opinion, it is the best\n",
    "overall, non-technical, description of how oceanographers came to\n",
    "understand the ocean.\n",
    "\n",
    "You may also benefit from reading pertinent chapters from any\n",
    "introductory oceanographic textbook. Those by Gross, Pinet, or Segar\n",
    "are especially useful. The three texts produced by the Open University\n",
    "provide a slightly more advanced treatment."
   ]
  },
  {
   "cell_type": "markdown",
   "id": "a3db809a-73f6-44f7-a471-de0cd2fdc446",
   "metadata": {},
   "source": [
    "* **Gross**, M. Grant and Elizabeth Gross (1996) Oceanography—A View of Earth. 7th edition. Prentice Hall.{cite:labelpar}`gross1996oceanography` \n",
    "* **MacLeish**, William (1989) The Gulf Stream: Encounters With the Blue God. Houghton Mifflin Company.{cite:labelpar}`macleish1989gulf` \n",
    "* **Pinet**, Paul R. (2006) Invitation to Oceanography. 4nd edition. Jones and Bartlett Publishers.{cite:labelpar}`pinet2006invitation`\n",
    "* **Open University** (2001) Ocean Circulation. 2nd edition. Pergamon Press.{cite:labelpar}`openuniversity2001circulation`\n",
    "* **Open University** (1995) Seawater: Its Composition, Properties and Behavior. 2nd edition. Pergamon Press.{cite:labelpar}`openuniversity1995seawater`\n",
    "* **Open University** (1989) Waves, Tides and Shallow-Water Processes. Pergamon Press.{cite:labelpar}`openuniversity1989waves` \n",
    "* **Segar**, Douglas A. (2007) Introduction to Ocean Sciences. 2nd edition. W. W. Norton.{cite:labelpar}`segar2007introduction` "
   ]
  }
 ],
 "metadata": {},
 "nbformat": 4,
 "nbformat_minor": 5
}
