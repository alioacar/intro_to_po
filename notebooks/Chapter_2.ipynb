{
 "cells": [
  {
   "cell_type": "markdown",
   "id": "3aacd29f-1408-4070-9f58-c7bdd024ed80",
   "metadata": {},
   "source": [
    "# The Historical Setting"
   ]
  },
  {
   "cell_type": "markdown",
   "id": "4d251aa3-50b5-44cb-943b-096432ad471a",
   "metadata": {},
   "source": [
    "Our knowledge of oceanic currents, winds, waves, and tides goes back\n",
    "thousands of years. Polynesian navigators traded over long distances\n",
    "in the Pacific as early as 4000 BC (Service, 1996). Pytheas\n",
    "explored the Atlantic from Italy to Norway in 325 BC. Arabic\n",
    "traders used their knowledge of the reversing winds and currents in\n",
    "the Indian Ocean to establish trade routes to China in the Middle Ages\n",
    "and later to Zanzibar on the African coast. And, the connection\n",
    "between tides and the sun and moon was\n",
    "described in the Samaveda of the Indian Vedic period extending from\n",
    "2000 to 1400 BC (Pugh, 1987).  Those oceanographers who tend\n",
    "to accept as true only that which has been measured by instruments,\n",
    "have much to learn from those who earned their living on the ocean.\n",
    "\n",
    "Modern European knowledge of the ocean began with voyages of discovery\n",
    "by Bartholomew Dias (1487--1488), Christopher Columbus (1492--1494),\n",
    "Vasco da Gama (1497--1499), Ferdinand Magellan (1519--1522), and many\n",
    "others. They laid the foundation for global trade routes stretching\n",
    "from Spain to the Philippines in the early 16th century. The routes\n",
    "were based on a good working knowledge of trade winds, the westerlies,\n",
    "and western boundary currents in the Atlantic and Pacific (Couper,\n",
    "1983: 192--193).\n",
    "\n",
    "The early European explorers were soon followed by scientific voyages\n",
    "of discovery led by (among many others) James Cook (1728--1779) on the\n",
    "*Endeavour*, *Resolution*, and *Adventure*,\n",
    "Charles Darwin (1809--1882) on the *Beagle*, Sir James Clark\n",
    "Ross and Sir John Ross who surveyed the Arctic and Antarctic regions\n",
    "from the *Victory*, the *Isabella*, and the\n",
    "*Erebus*, and Edward Forbes (1815--1854) who studied the\n",
    "vertical distribution of life in the ocean. Others collected oceanic\n",
    "observations and produced useful charts, including Edmond Halley who\n",
    "charted the trade winds and monsoons and Benjamin Franklin who charted\n",
    "the Gulf Stream.\n",
    "\n",
    "Slow ships of the 19th and 20th centuries gave way to satellites,\n",
    "drifters, and autonomous instruments toward the end of the 20th\n",
    "century. Satellites now observe the ocean, air, and land. Thousands of\n",
    "drifters observe the upper two kilometers of the ocean. Data from\n",
    "these systems, when fed into numerical models allows the study of\n",
    "earth as a system.  For the first time, we can study how biological,\n",
    "chemical, and physical systems interact to influence our environment."
   ]
  },
  {
   "cell_type": "code",
   "execution_count": null,
   "id": "873dd79f-7b65-4773-a91a-584534f885e2",
   "metadata": {},
   "outputs": [],
   "source": [
    "import plotly.graph_objects as go\n",
    "import pandas as pd\n",
    "stations=pd.read_csv('../_static/data/HMSChallenger-Station-Data.csv')\n",
    "lat=stations['Latitude Degrees']+stations['Latitude Minutes']/60.+stations['Latitude Seconds']/3600.\n",
    "lon=stations['Longitude Degrees']+stations['Longitude Minutes']/60.+stations['Longitude Seconds']/3600.\n",
    "lat[stations['North/South'] == 'S'] *= -1\n",
    "lon[stations['East/West'] == 'W'] *= -1\n",
    "\n",
    "fig = go.Figure(go.Scattergeo(lon=lon,lat=lat,mode='markers',marker=dict(size=8,color='blue',opacity=0.6)))\n",
    "fig.update_layout(height=400, margin={\"r\":0,\"t\":0,\"l\":0,\"b\":0})\n",
    "fig.update_geos(lataxis_showgrid=True, lonaxis_showgrid=True)"
   ]
  }
 ],
 "metadata": {},
 "nbformat": 4,
 "nbformat_minor": 5
}
